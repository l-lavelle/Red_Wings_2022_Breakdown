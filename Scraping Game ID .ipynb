{
 "cells": [
  {
   "cell_type": "markdown",
   "id": "200e5c73",
   "metadata": {},
   "source": [
    "# Finding All Fall Season 2022 Red Wing Game IDs"
   ]
  },
  {
   "cell_type": "code",
   "execution_count": 1,
   "id": "aebd2ee6",
   "metadata": {},
   "outputs": [],
   "source": [
    "import requests"
   ]
  },
  {
   "cell_type": "code",
   "execution_count": 2,
   "id": "86607df7",
   "metadata": {},
   "outputs": [],
   "source": [
    "## Using API to access Red Wings Schedule 2022 played games \n",
    "url=\"https://statsapi.web.nhl.com/api/v1/schedule?teamId=17&startDate=2022-10-14&endDate=2022-12-31\"\n",
    "data=requests.get(url)"
   ]
  },
  {
   "cell_type": "code",
   "execution_count": 4,
   "id": "54318d29",
   "metadata": {},
   "outputs": [],
   "source": [
    "## Writing response to seperate file \n",
    "with open(\"Individual Game Data/Schedule 2022 Data.html\", \"w+\") as f:\n",
    "        f.write(data.text)"
   ]
  },
  {
   "cell_type": "code",
   "execution_count": 5,
   "id": "b1ae106b",
   "metadata": {},
   "outputs": [],
   "source": [
    "## Opening file with Red Wings Schedule data \n",
    "with open(\"Individual Game Data/Schedule 2022 Data.html\") as f:\n",
    "    page=f.read()"
   ]
  },
  {
   "cell_type": "code",
   "execution_count": 6,
   "id": "605049d6",
   "metadata": {},
   "outputs": [],
   "source": [
    "import json"
   ]
  },
  {
   "cell_type": "code",
   "execution_count": 7,
   "id": "5e84dbba",
   "metadata": {},
   "outputs": [],
   "source": [
    "response_info=json.loads(page)"
   ]
  },
  {
   "cell_type": "code",
   "execution_count": 9,
   "id": "1af91f3e",
   "metadata": {},
   "outputs": [
    {
     "name": "stdout",
     "output_type": "stream",
     "text": [
      "[2022020022, 2022020028, 2022020044, 2022020072, 2022020088, 2022020102, 2022020111, 2022020132, 2022020144, 2022020164, 2022020181, 2022020190, 2022020203, 2022020217, 2022020237, 2022020255, 2022020272, 2022020279, 2022020311, 2022020325, 2022020348, 2022020361, 2022020386, 2022020394, 2022020405, 2022020419, 2022020435, 2022020460, 2022020467, 2022020485, 2022020503, 2022020519, 2022020560, 2022020563, 2022020584]\n"
     ]
    }
   ],
   "source": [
    "## Adding all game ids to the list \n",
    "game_id=[]\n",
    "for date in response_info['dates']:\n",
    "    game=(date['games'])\n",
    "    for id in game:\n",
    "        game_id.append(id['gamePk'])\n",
    "print(game_id)"
   ]
  }
 ],
 "metadata": {
  "kernelspec": {
   "display_name": "Python 3 (ipykernel)",
   "language": "python",
   "name": "python3"
  },
  "language_info": {
   "codemirror_mode": {
    "name": "ipython",
    "version": 3
   },
   "file_extension": ".py",
   "mimetype": "text/x-python",
   "name": "python",
   "nbconvert_exporter": "python",
   "pygments_lexer": "ipython3",
   "version": "3.11.1"
  }
 },
 "nbformat": 4,
 "nbformat_minor": 5
}
